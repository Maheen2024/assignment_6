{
  "nbformat": 4,
  "nbformat_minor": 0,
  "metadata": {
    "colab": {
      "provenance": [],
      "authorship_tag": "ABX9TyOPsjIfUtT21y7WSg4IJpdt",
      "include_colab_link": true
    },
    "kernelspec": {
      "name": "python3",
      "display_name": "Python 3"
    },
    "language_info": {
      "name": "python"
    }
  },
  "cells": [
    {
      "cell_type": "markdown",
      "metadata": {
        "id": "view-in-github",
        "colab_type": "text"
      },
      "source": [
        "<a href=\"https://colab.research.google.com/github/Maheen2024/assignment_6/blob/main/project_6_oop_asssignment.ipynb\" target=\"_parent\"><img src=\"https://colab.research.google.com/assets/colab-badge.svg\" alt=\"Open In Colab\"/></a>"
      ]
    },
    {
      "cell_type": "markdown",
      "source": [
        "1. Using self\n",
        "Assignment:\n",
        "Create a class Student with attributes name and marks. Use the self keyword to initialize these values via a constructor. Add a method display() that prints student details.\n"
      ],
      "metadata": {
        "id": "Aq1N6DjVh9TO"
      }
    },
    {
      "cell_type": "code",
      "source": [
        "class Student():\n",
        "    def __init__(self, name:str, marks: int):\n",
        "      self.name = name\n",
        "      self.marks= marks\n",
        "\n",
        "    def display(self):\n",
        "        return(f\"Name: {self.name}, Marks: {self.marks}\")\n",
        "\n",
        "student1= Student(\"Maheen\", 95)\n",
        "student2 = Student(\"Iqra\", 90)\n",
        "print(\"Students 1 details:\", student1.display())\n",
        "\n",
        "print(\"Students 2 details:\", student2.display())\n",
        "\n",
        "\n",
        "\n"
      ],
      "metadata": {
        "colab": {
          "base_uri": "https://localhost:8080/"
        },
        "id": "JQP5CpBIiBH7",
        "outputId": "1d93a03f-0ba0-4739-e8e5-d289f172c0e8"
      },
      "execution_count": null,
      "outputs": [
        {
          "output_type": "stream",
          "name": "stdout",
          "text": [
            "Students 1 details: Name: Maheen, Marks: 95\n",
            "Students 2 details: Name: Iqra, Marks: 90\n"
          ]
        }
      ]
    },
    {
      "cell_type": "markdown",
      "source": [
        "2. Using cls\n",
        "Assignment:\n",
        "Create a class Counter that keeps track of how many objects have been created. Use a class variable and a class method with cls to manage and display the count.\n",
        "\n",
        "\n",
        "\n"
      ],
      "metadata": {
        "id": "JsHUrxI6pUD5"
      }
    },
    {
      "cell_type": "code",
      "source": [
        "class Counter():\n",
        "  count = 0\n",
        "  def __init__ (self, name : str):\n",
        "    self.Name = name\n",
        "    Counter.count +=1\n",
        "\n",
        "  @classmethod\n",
        "  def display_count(cls):\n",
        "      print(cls.count)\n",
        "\n",
        "user1 = Counter(\"maheen\")\n",
        "user2 = Counter(\"Arifa\")\n",
        "user3 = Counter(\"Iqra\")\n",
        "\n",
        "Counter.display_count()"
      ],
      "metadata": {
        "colab": {
          "base_uri": "https://localhost:8080/"
        },
        "id": "hQdPeKmjpTg2",
        "outputId": "ff9ea7e7-bde6-4e44-9488-c71b8d9817ca"
      },
      "execution_count": null,
      "outputs": [
        {
          "output_type": "stream",
          "name": "stdout",
          "text": [
            "3\n"
          ]
        }
      ]
    },
    {
      "cell_type": "markdown",
      "source": [
        "3. Public Variables and Methods\n",
        "Assignment:\n",
        "Create a class Car with a public variable brand and a public method start(). Instantiate the class and access both from outside the class.\n"
      ],
      "metadata": {
        "id": "CdO7S4WlIdTy"
      }
    },
    {
      "cell_type": "code",
      "source": [
        "class Car():\n",
        "  def __init__(self, brand):\n",
        "    self.brand = brand\n",
        "\n",
        "  def start(self):\n",
        "    print(f\"The {self.brand} is startig 🚗\")\n",
        "\n",
        "my_car = Car(\"BMW\")\n",
        "print(\"Car brand:\", my_car.brand)\n",
        "\n",
        "my_car.start()\n",
        "\n"
      ],
      "metadata": {
        "colab": {
          "base_uri": "https://localhost:8080/"
        },
        "id": "Rz4OlW99IawB",
        "outputId": "d4baba60-841a-4009-836a-4628ab95c48d"
      },
      "execution_count": null,
      "outputs": [
        {
          "output_type": "stream",
          "name": "stdout",
          "text": [
            "Car brand: BMW\n",
            "The BMW is startig 🚗\n"
          ]
        }
      ]
    },
    {
      "cell_type": "markdown",
      "source": [
        "4. Class Variables and Class Methods\n",
        "Assignment:\n",
        "Create a class Bank with a class variable bank_name. Add a class method change_bank_name(cls, name) that allows changing the bank name. Show that it affects all instances."
      ],
      "metadata": {
        "id": "Z5Mvf9tfMqdn"
      }
    },
    {
      "cell_type": "code",
      "source": [
        "\n",
        "class Bank:\n",
        "\n",
        "    bank_name = \"XYZ Bank\"\n",
        "\n",
        "    @classmethod\n",
        "    def change_bank_name(cls, name):\n",
        "        cls.bank_name = name\n",
        "\n",
        "bank1 = Bank()\n",
        "bank2 = Bank()\n",
        "\n",
        "print(\"Before change:\")\n",
        "print(\"Bank 1 name:\", bank1.bank_name)\n",
        "print(\"Bank 2 name:\", bank2.bank_name)\n",
        "\n",
        "Bank.change_bank_name(\"New Generation Bank\")\n",
        "\n",
        "print(\"\\nAfter change:\")\n",
        "print(\"Bank 1 name:\", bank1.bank_name)\n",
        "print(\"Bank 2 name:\", bank2.bank_name)\n"
      ],
      "metadata": {
        "colab": {
          "base_uri": "https://localhost:8080/"
        },
        "id": "gyJjBBu_Mp0o",
        "outputId": "94eda122-4550-4791-c6bf-818534886a8b"
      },
      "execution_count": null,
      "outputs": [
        {
          "output_type": "stream",
          "name": "stdout",
          "text": [
            "Before change:\n",
            "Bank 1 name: XYZ Bank\n",
            "Bank 2 name: XYZ Bank\n",
            "\n",
            "After change:\n",
            "Bank 1 name: New Generation Bank\n",
            "Bank 2 name: New Generation Bank\n"
          ]
        }
      ]
    },
    {
      "cell_type": "markdown",
      "source": [
        "5. Static Variables and Static Methods\n",
        "Assignment:\n",
        "Create a class MathUtils with a static method add(a, b) that returns the sum. No class or instance variables should be used.\n",
        "\n"
      ],
      "metadata": {
        "id": "VtuEtHswUhuK"
      }
    },
    {
      "cell_type": "code",
      "source": [
        "class MathUtils():\n",
        "  @staticmethod\n",
        "  def add(a, b):\n",
        "    return a + b\n",
        "\n",
        "print(MathUtils.add(2,3))\n",
        "\n",
        "\n",
        "\n"
      ],
      "metadata": {
        "colab": {
          "base_uri": "https://localhost:8080/"
        },
        "id": "SB7t3dN8UfKj",
        "outputId": "c9c1df1f-1df4-4426-f90f-4c7c0ecf7af8"
      },
      "execution_count": null,
      "outputs": [
        {
          "output_type": "stream",
          "name": "stdout",
          "text": [
            "5\n"
          ]
        }
      ]
    },
    {
      "cell_type": "markdown",
      "source": [
        "6. Constructors and Destructors\n",
        "Assignment:\n",
        "Create a class Logger that prints a message when an object is created (constructor) and another message when it is destroyed (destructor)."
      ],
      "metadata": {
        "id": "OENTel_CXZHg"
      }
    },
    {
      "cell_type": "code",
      "source": [
        "class Logger():\n",
        "    def __init__(self):\n",
        "        print(\"Logger object created!\")\n",
        "\n",
        "    def __del__(self):\n",
        "        print(\"Logger object destroyed!\")\n",
        "\n",
        "\n",
        "log = Logger()\n",
        "print(log)\n",
        "\n",
        "print(\"Maheen\")\n",
        "\n"
      ],
      "metadata": {
        "id": "Mfb6Te5jXYks",
        "colab": {
          "base_uri": "https://localhost:8080/"
        },
        "outputId": "ac3153bb-0f3c-45a1-eb61-1e5cc07ecea5"
      },
      "execution_count": null,
      "outputs": [
        {
          "output_type": "stream",
          "name": "stdout",
          "text": [
            "Logger object created!\n",
            "<__main__.Logger object at 0x7c4c09148310>\n",
            "Maheen\n"
          ]
        }
      ]
    },
    {
      "cell_type": "markdown",
      "source": [
        "7. Access Modifiers: Public, Private, and Protected\n",
        "Assignment:\n",
        "Create a class Employee with:\n",
        "\n",
        "a public variable name,\n",
        "\n",
        "a protected variable _salary, and\n",
        "\n",
        "a private variable __ssn.\n",
        "\n",
        "Try accessing all three variables from an object of the class and document what happens."
      ],
      "metadata": {
        "id": "-lvZweLoCUyX"
      }
    },
    {
      "cell_type": "code",
      "source": [
        "class Employee:\n",
        "    def __init__(self, name, salary, ssn):\n",
        "      self.name = name\n",
        "      self._salary = salary\n",
        "      self.__ssn = ssn\n",
        "\n",
        "emp = Employee(\"Maheen\", 50000, \"012-3456-789\")\n",
        "\n",
        "print(\"Public name:\", emp.name)\n",
        "print(\"Protectd salary:\", emp._salary)\n",
        "print(\"Private ssn:\", emp._Employee__ssn)\n",
        "\n",
        "\n"
      ],
      "metadata": {
        "colab": {
          "base_uri": "https://localhost:8080/"
        },
        "id": "fybWlzzwCemn",
        "outputId": "fefc5a17-2bb3-4764-bfbc-22473ecbe12e"
      },
      "execution_count": 30,
      "outputs": [
        {
          "output_type": "stream",
          "name": "stdout",
          "text": [
            "Public name: Maheen\n",
            "Protectd salary: 50000\n",
            "Private ssn: 012-3456-789\n"
          ]
        }
      ]
    },
    {
      "cell_type": "markdown",
      "source": [
        "8. The super() Function\n",
        "Assignment:\n",
        "Create a class Person with a constructor that sets the name. Inherit a class Teacher from it, add a subject field, and use super() to call the base class constructor."
      ],
      "metadata": {
        "id": "YPPTJcKf-dCG"
      }
    },
    {
      "cell_type": "code",
      "source": [
        "class Person():\n",
        "  def __init__(self,name):\n",
        "    self.name = name\n",
        "\n",
        "class Teacher(Person):\n",
        "  def __init__(self, name, subject):\n",
        "    super().__init__(name)\n",
        "    self.subject = subject\n",
        "\n",
        "teacher = Teacher(\"Hamzah Syed\", \"Python\")\n",
        "print(f\"Teacher Name: {teacher.name}, Subject: {teacher.subject}\")\n"
      ],
      "metadata": {
        "id": "0V8d-5Hp-ji9",
        "colab": {
          "base_uri": "https://localhost:8080/"
        },
        "outputId": "3f9ad302-f10a-4251-8ae1-b899de2a31c9"
      },
      "execution_count": null,
      "outputs": [
        {
          "output_type": "stream",
          "name": "stdout",
          "text": [
            "Teacher Name: Hamzah Syed, Subject: Python\n"
          ]
        }
      ]
    },
    {
      "cell_type": "markdown",
      "source": [
        "9. Abstract Classes and Methods\n",
        "Assignment:\n",
        "Use the abc module to create an abstract class Shape with an abstract method area(). Inherit a class Rectangle that implements area()."
      ],
      "metadata": {
        "id": "aUrdKMt3JM91"
      }
    },
    {
      "cell_type": "code",
      "source": [
        "from abc import ABC, abstractmethod\n",
        "\n",
        "class Shape(ABC):\n",
        "  @abstractmethod\n",
        "  def area(self):\n",
        "    pass\n",
        "\n",
        "class Rectangle(Shape):\n",
        "  def __init__(self, height, width):\n",
        "      self.height = height\n",
        "      self.width = width\n",
        "  def area(self):\n",
        "    return self.height * self.width\n",
        "\n",
        "rect1 = Rectangle(5,10)\n",
        "print(f\"Area of Rectangle is {rect1.area()}\")\n"
      ],
      "metadata": {
        "colab": {
          "base_uri": "https://localhost:8080/"
        },
        "id": "B2O2CQBXJY0i",
        "outputId": "8f599764-ddad-498a-e6e7-10e439e7013b"
      },
      "execution_count": null,
      "outputs": [
        {
          "output_type": "stream",
          "name": "stdout",
          "text": [
            "Area of Rectangle is 50\n"
          ]
        }
      ]
    },
    {
      "cell_type": "markdown",
      "source": [
        "10. Instance Methods\n",
        "Assignment:\n",
        "Create a class Dog with instance variables name and breed. Add an instance method bark() that prints a message including the dog's name."
      ],
      "metadata": {
        "id": "qVMIbJE1Nvkc"
      }
    },
    {
      "cell_type": "code",
      "source": [
        "class Dog:\n",
        "  def __init__(self, name, breed):\n",
        "      self.name = name\n",
        "      self.breed = breed\n",
        "  def bark(self):\n",
        "      return(f\"{self.name} says Woooff!\")\n",
        "\n",
        "dog = Dog(\"Tannie\", \"Pomeranian\" )\n",
        "print(dog.bark())\n"
      ],
      "metadata": {
        "id": "uXhIewF6NxHa",
        "colab": {
          "base_uri": "https://localhost:8080/"
        },
        "outputId": "c4ff88bc-2b25-4634-e3cc-fc6a2d694726"
      },
      "execution_count": 3,
      "outputs": [
        {
          "output_type": "stream",
          "name": "stdout",
          "text": [
            "Tannie says Woooff!\n"
          ]
        }
      ]
    },
    {
      "cell_type": "markdown",
      "source": [
        "11. Class Methods\n",
        "Assignment:\n",
        "Create a class Book with a class variable total_books. Add a class method increment_book_count() to increase the count when a new book is added."
      ],
      "metadata": {
        "id": "WBR-ZPLwvzQ8"
      }
    },
    {
      "cell_type": "code",
      "source": [
        "class Book():\n",
        "  total_books = 0\n",
        "  def __init__(self):\n",
        "      Book.total_books +=1\n",
        "\n",
        "  @classmethod\n",
        "  def increment_book_count(cls):\n",
        "      return(f\"the count of total books are {cls.total_books}\")\n",
        "\n",
        "book1 = Book()\n",
        "book2 = Book()\n",
        "book3 = Book()\n",
        "\n",
        "print(Book.increment_book_count())"
      ],
      "metadata": {
        "colab": {
          "base_uri": "https://localhost:8080/"
        },
        "id": "j1pHt1hzv0oW",
        "outputId": "845045de-8661-4ffe-fdd3-62f82f31f680"
      },
      "execution_count": 4,
      "outputs": [
        {
          "output_type": "stream",
          "name": "stdout",
          "text": [
            "the count of total books are 3\n"
          ]
        }
      ]
    },
    {
      "cell_type": "markdown",
      "source": [
        "12. Static Methods\n",
        "Assignment:\n",
        "Create a class TemperatureConverter with a static method celsius_to_fahrenheit(c) that returns the Fahrenheit value.\n",
        "\n"
      ],
      "metadata": {
        "id": "GZngJzvOxp7b"
      }
    },
    {
      "cell_type": "code",
      "source": [
        "class TemperatureConverter():\n",
        "  @staticmethod\n",
        "  def  celsius_to_fahrenheit(c):\n",
        "      return (c * 9/5) + 32\n",
        "print(f\"The temperature in fahrenheit is {TemperatureConverter.celsius_to_fahrenheit(30)}\")"
      ],
      "metadata": {
        "colab": {
          "base_uri": "https://localhost:8080/"
        },
        "id": "Ug2dgudgxrDw",
        "outputId": "3395c394-811d-4195-886f-efb2737a2ce6"
      },
      "execution_count": 6,
      "outputs": [
        {
          "output_type": "stream",
          "name": "stdout",
          "text": [
            "The temperature in fahrenheit is 86.0\n"
          ]
        }
      ]
    },
    {
      "cell_type": "markdown",
      "source": [
        "13. Composition\n",
        "Assignment:\n",
        "Create a class Engine and a class Car. Use composition by passing an Engine object to the Car class during initialization. Access a method of the Engine class via the Car class."
      ],
      "metadata": {
        "id": "iwBJbXwuyn7d"
      }
    },
    {
      "cell_type": "code",
      "source": [
        "class Engine:\n",
        "    def start_engine(self):\n",
        "        return \"Engine started\"\n",
        "\n",
        "class Car:\n",
        "    def __init__(self,engine):\n",
        "        self.engine = engine\n",
        "\n",
        "    def start_car(self):\n",
        "        return self.engine.start_engine()\n",
        "\n",
        "car_engine:Engine = Engine()\n",
        "my_car:Car = Car(car_engine)\n",
        "print(my_car.start_car())"
      ],
      "metadata": {
        "colab": {
          "base_uri": "https://localhost:8080/"
        },
        "id": "ESDjzmICyo6I",
        "outputId": "e7a27590-e1a1-4585-d1ed-f3c897691ddb"
      },
      "execution_count": 7,
      "outputs": [
        {
          "output_type": "stream",
          "name": "stdout",
          "text": [
            "Engine started\n"
          ]
        }
      ]
    },
    {
      "cell_type": "markdown",
      "source": [
        "14. Aggregation\n",
        "Assignment:\n",
        "Create a class Department and a class Employee. Use aggregation by having a Department object store a reference to an Employee object that exists independently of it."
      ],
      "metadata": {
        "id": "2gXKQ5zvzaPu"
      }
    },
    {
      "cell_type": "code",
      "source": [
        "class Department:\n",
        "    def __init__(self,department_name):\n",
        "        self.department_name = department_name\n",
        "\n",
        "    def get_department_name(self):\n",
        "        return self.department_name\n",
        "\n",
        "class Employee:\n",
        "    def __init__(self,employee_name,department):\n",
        "        self.employee_name = employee_name\n",
        "        self.department = department\n",
        "\n",
        "\n",
        "department:Department = Department(\"HR\")\n",
        "employee1:Employee = Employee(\"Maheen\",department)\n",
        "print(f\"Employee {employee1.employee_name} works in {employee1.department.get_department_name()} department.\")"
      ],
      "metadata": {
        "colab": {
          "base_uri": "https://localhost:8080/"
        },
        "id": "2bovXxYpzbjb",
        "outputId": "28a76650-cbd6-4520-e26f-97441d848e22"
      },
      "execution_count": 8,
      "outputs": [
        {
          "output_type": "stream",
          "name": "stdout",
          "text": [
            "Employee Rabia works in HR department.\n"
          ]
        }
      ]
    },
    {
      "cell_type": "markdown",
      "source": [
        "15. Method Resolution Order (MRO) and Diamond Inheritance\n",
        "Assignment:\n",
        "Create four classes:\n",
        "\n",
        "A with a method show(),\n",
        "\n",
        "B and C that inherit from A and override show(),\n",
        "\n",
        "D that inherits from both B and C.\n",
        "\n",
        "Create an object of D and call show() to observe MRO.\n",
        "\n"
      ],
      "metadata": {
        "id": "viIgDA4O0Fdd"
      }
    },
    {
      "cell_type": "code",
      "source": [
        "class A:\n",
        "    def show(self):\n",
        "        return('Class A show() method')\n",
        "\n",
        "class B(A):\n",
        "    def show(self):\n",
        "        return('Class B show() method')\n",
        "\n",
        "class C(A):\n",
        "    def show(self):\n",
        "        return('Class C show() method')\n",
        "\n",
        "class D(B,C):\n",
        "    def show(self):\n",
        "        return('Class D show() method')\n",
        "\n",
        "d = D()\n",
        "print(d.show())\n",
        "# d.show()\n",
        "# print(D.__mro__)"
      ],
      "metadata": {
        "colab": {
          "base_uri": "https://localhost:8080/"
        },
        "id": "ampRmVuQ0GZk",
        "outputId": "71f6a528-e140-4dcc-8907-22fd70c4bb56"
      },
      "execution_count": 11,
      "outputs": [
        {
          "output_type": "stream",
          "name": "stdout",
          "text": [
            "Class D show() method\n",
            "(<class '__main__.D'>, <class '__main__.B'>, <class '__main__.C'>, <class '__main__.A'>, <class 'object'>)\n"
          ]
        }
      ]
    },
    {
      "cell_type": "markdown",
      "source": [
        "16. Function Decorators\n",
        "Assignment:\n",
        "Write a decorator function log_function_call that prints \"Function is being called\" before a function executes. Apply it to a function say_hello().\n",
        "\n"
      ],
      "metadata": {
        "id": "pGj1VN6J2AOo"
      }
    },
    {
      "cell_type": "code",
      "source": [
        "def log_function_call(func):\n",
        "    def wrapper(*args, **kwargs):\n",
        "        print(\"Function is being called\")\n",
        "        return func(*args, **kwargs)\n",
        "    return wrapper\n",
        "\n",
        "@log_function_call\n",
        "def say_hello():\n",
        "    print(\"Hello World!\")\n",
        "\n",
        "say_hello()\n"
      ],
      "metadata": {
        "colab": {
          "base_uri": "https://localhost:8080/"
        },
        "id": "zJw0LIrR2BD7",
        "outputId": "34f7b4ec-d59a-4e17-c636-979c93f4d4ae"
      },
      "execution_count": 13,
      "outputs": [
        {
          "output_type": "stream",
          "name": "stdout",
          "text": [
            "Function is being called\n",
            "Hello World!\n"
          ]
        }
      ]
    },
    {
      "cell_type": "markdown",
      "source": [
        "17. Class Decorators\n",
        "Assignment:\n",
        "Create a class decorator add_greeting that modifies a class to add a greet() method returning \"Hello from Decorator!\". Apply it to a class Person."
      ],
      "metadata": {
        "id": "kOttyazB2uoL"
      }
    },
    {
      "cell_type": "code",
      "source": [
        "def add_greeting(cls):\n",
        "    def greet(self):\n",
        "        return \"Hello from Decorator!\"\n",
        "    cls.greet = greet\n",
        "    return cls\n",
        "\n",
        "@add_greeting\n",
        "class Person:\n",
        "    def __init__(self,name):\n",
        "        self.name = name\n",
        "\n",
        "\n",
        "\n",
        "person:Person = Person(\"Maheen\")\n",
        "print(person.name)\n",
        "print(person.greet())\n",
        "\n",
        "\n"
      ],
      "metadata": {
        "colab": {
          "base_uri": "https://localhost:8080/"
        },
        "id": "lDYHCI3Y2vy_",
        "outputId": "fb0cb617-fa5e-494e-fdb2-446fccc922b6"
      },
      "execution_count": 16,
      "outputs": [
        {
          "output_type": "stream",
          "name": "stdout",
          "text": [
            "Maheen\n",
            "Hello from Decorator!\n"
          ]
        }
      ]
    },
    {
      "cell_type": "markdown",
      "source": [
        "18. Property Decorators: @property, @setter, and @deleter\n",
        "Assignment:\n",
        "Create a class Product with a private attribute _price. Use @property to get the price, @price.setter to update it, and @price.deleter to delete it."
      ],
      "metadata": {
        "id": "IzbpT5Fu4GV1"
      }
    },
    {
      "cell_type": "code",
      "source": [
        "class Product:\n",
        "    def __init__(self, price):\n",
        "        self.__price = price  # now truly private via name mangling\n",
        "\n",
        "    @property\n",
        "    def price(self):\n",
        "        print(\"Getting price...\")\n",
        "        return self.__price\n",
        "\n",
        "    @price.setter\n",
        "    def price(self, value):\n",
        "        print(\"Setting price...\")\n",
        "        if value < 0:\n",
        "            raise ValueError(\"Price cannot be negative.\")\n",
        "        self.__price = value\n",
        "\n",
        "    @price.deleter\n",
        "    def price(self):\n",
        "        print(\"Deleting price...\")\n",
        "        del self.__price\n",
        "\n",
        "product = Product(100)\n",
        "print(product.price)\n",
        "product.price = 150\n",
        "print(product.price)\n",
        "del product.price\n",
        "\n"
      ],
      "metadata": {
        "colab": {
          "base_uri": "https://localhost:8080/"
        },
        "id": "B0fh0jm34HP8",
        "outputId": "f7685222-ff73-4a43-b95f-362185455f2d"
      },
      "execution_count": 26,
      "outputs": [
        {
          "output_type": "stream",
          "name": "stdout",
          "text": [
            "Getting price...\n",
            "100\n",
            "Setting price...\n",
            "Getting price...\n",
            "150\n",
            "Deleting price...\n"
          ]
        }
      ]
    },
    {
      "cell_type": "markdown",
      "source": [
        "19. callable() and __call__()\n",
        "Assignment:\n",
        "Create a class Multiplier with an __init__() to set a factor. Define a __call__() method that multiplies an input by the factor. Test it with callable() and by calling the object like a function.\n",
        "\n"
      ],
      "metadata": {
        "id": "n4d8S3BC6RWj"
      }
    },
    {
      "cell_type": "code",
      "source": [
        "class Multiplier:\n",
        "    def __init__(self, factor):\n",
        "        self.factor = factor\n",
        "\n",
        "    def __call__(self, value):\n",
        "        return value * self.factor\n",
        "\n",
        "multiplier = Multiplier(5)\n",
        "print(callable(multiplier))\n",
        "result = multiplier(10)\n",
        "print(result)\n"
      ],
      "metadata": {
        "colab": {
          "base_uri": "https://localhost:8080/"
        },
        "id": "r707SoB96SH-",
        "outputId": "f9fd0f35-9049-4377-ef87-f347ebaec0a6"
      },
      "execution_count": 24,
      "outputs": [
        {
          "output_type": "stream",
          "name": "stdout",
          "text": [
            "True\n",
            "50\n"
          ]
        }
      ]
    },
    {
      "cell_type": "markdown",
      "source": [
        "20. Creating a Custom Exception\n",
        "Assignment:\n",
        "Create a custom exception InvalidAgeError. Write a function check_age(age) that raises this exception if age < 18. Handle it with try...except."
      ],
      "metadata": {
        "id": "22vsKmS87d9r"
      }
    },
    {
      "cell_type": "code",
      "source": [
        "class InvalidAgeError(Exception):\n",
        "    pass\n",
        "\n",
        "def check_age(age):\n",
        "    if age < 18:\n",
        "        raise InvalidAgeError(\"Age must be 18 or older.\")\n",
        "    else:\n",
        "        print(\"Age is valid.\")\n",
        "\n",
        "try:\n",
        "    check_age(15)\n",
        "except InvalidAgeError as e:\n",
        "    print(f\"Error: {e}\")\n"
      ],
      "metadata": {
        "colab": {
          "base_uri": "https://localhost:8080/"
        },
        "id": "BH_rYZAD7hBB",
        "outputId": "7478b094-22ad-44c1-eec3-3d47af23dfdd"
      },
      "execution_count": 27,
      "outputs": [
        {
          "output_type": "stream",
          "name": "stdout",
          "text": [
            "Error: Age must be 18 or older.\n"
          ]
        }
      ]
    },
    {
      "cell_type": "markdown",
      "source": [
        "21. Make a Custom Class Iterable\n",
        "Assignment:\n",
        "Create a class Countdown that takes a start number. Implement __iter__() and __next__() to make the object iterable in a for-loop, counting down to 0.\n",
        "\n",
        "Once you are done submit this form ASAP:"
      ],
      "metadata": {
        "id": "TZ8csQJf8Ktn"
      }
    },
    {
      "cell_type": "code",
      "source": [
        "class Countdown:\n",
        "    def __init__(self, start):\n",
        "        self.start = start\n",
        "        self.current = start\n",
        "\n",
        "    def __iter__(self):\n",
        "        return self\n",
        "\n",
        "    def __next__(self):\n",
        "        if self.current < 0:\n",
        "            raise StopIteration\n",
        "        current_value = self.current\n",
        "        self.current -= 1\n",
        "        return current_value\n",
        "\n",
        "countdown = Countdown(5)\n",
        "\n",
        "for number in countdown:\n",
        "    print(number)\n",
        "\n"
      ],
      "metadata": {
        "colab": {
          "base_uri": "https://localhost:8080/"
        },
        "id": "_NhQBCYQ8Ltg",
        "outputId": "2cc02e06-cb82-4058-941a-edc444d5c1ae"
      },
      "execution_count": 29,
      "outputs": [
        {
          "output_type": "stream",
          "name": "stdout",
          "text": [
            "5\n",
            "4\n",
            "3\n",
            "2\n",
            "1\n",
            "0\n"
          ]
        }
      ]
    }
  ]
}